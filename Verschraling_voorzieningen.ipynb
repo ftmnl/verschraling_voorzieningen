{
 "cells": [
  {
   "cell_type": "code",
   "execution_count": 1,
   "id": "d02c8657",
   "metadata": {},
   "outputs": [],
   "source": [
    "import os\n",
    "import pandas as pd\n",
    "import geopandas as gpd\n",
    "import glob\n",
    "import re"
   ]
  },
  {
   "cell_type": "code",
   "execution_count": 2,
   "id": "732783a3",
   "metadata": {},
   "outputs": [],
   "source": [
    "data = pd.read_csv('nabijheid_excl_shapes.csv', sep=';')\n",
    "data.head()\n",
    "data = data[data['GWB_CODE'].str.contains('WK')]\n",
    "#data2007 = data[data['Jaar'] == 2007]\n",
    "#data2019 = data[data['Jaar'] == 2019]\n",
    "data2008 = data[data['Jaar'] == 2008]"
   ]
  },
  {
   "cell_type": "code",
   "execution_count": 20,
   "id": "f700374b",
   "metadata": {},
   "outputs": [],
   "source": [
    "buurten = []\n",
    "wijken = []\n",
    "gemeenten = []\n",
    "\n",
    "def process_shp(df, gwb, code, year, data):\n",
    "    df['type'] = gwb\n",
    "    df = df[[code + '_CODE', 'type', 'geometry']]\n",
    "    df = pd.merge(data, df, how='left', left_on= code + '_CODE', right_on='GWB_CODE')\n",
    "    df = df[df['Jaar'].notna()]\n",
    "    df['Jaar'] = df['Jaar'].astype('int')\n",
    "    df['Jaar_slider'] = year + '-01-01'\n",
    "    df['inwoners'] = df['inwoners'].astype('int')\n",
    "    df.columns = df.columns.str.strip('_afst')\n",
    "    return df\n",
    "\n",
    "\n",
    "for file in glob.glob('shapes/*.shp'):\n",
    "    year = re.findall('(\\d{4})', os.path.basename(file))[0]\n",
    "    df = gpd.read_file(file)\n",
    "    \n",
    "    if 'WATER' in df.columns:\n",
    "        df = df[df['WATER'] == 'NEE']\n",
    "    elif 'H2O' in shape.columns:\n",
    "        df = df[df['H2O'] == 'NEE']\n",
    "    else:\n",
    "        pass\n",
    "    \n",
    "    if 'buurt' in file:\n",
    "        buurten.append(process_shp(df, 'buurt', 'BU', year, data))\n",
    "    elif 'wijk' in file:\n",
    "        wijken.append(process_shp(df, 'wijk', 'WK', year, data))\n",
    "    elif 'gemeente' in file:\n",
    "        gemeenten.append(process_shp(df, 'gemeente', 'GM', year, data))\n",
    "        "
   ]
  },
  {
   "cell_type": "code",
   "execution_count": null,
   "id": "d09aad7a",
   "metadata": {},
   "outputs": [],
   "source": []
  },
  {
   "cell_type": "code",
   "execution_count": 21,
   "id": "c1376a01",
   "metadata": {},
   "outputs": [
    {
     "data": {
      "text/plain": [
       "[]"
      ]
     },
     "execution_count": 21,
     "metadata": {},
     "output_type": "execute_result"
    }
   ],
   "source": [
    "buurten"
   ]
  },
  {
   "cell_type": "code",
   "execution_count": 15,
   "id": "38bdb99d",
   "metadata": {},
   "outputs": [
    {
     "name": "stderr",
     "output_type": "stream",
     "text": [
      "<ipython-input-15-0d6c742cff63>:13: UserWarning: Column names longer than 10 characters will be truncated when saved to ESRI Shapefile.\n",
      "  g.to_file('qgis/gemeenten1.shp')\n",
      "<ipython-input-15-0d6c742cff63>:14: UserWarning: Column names longer than 10 characters will be truncated when saved to ESRI Shapefile.\n",
      "  g1.to_file('qgis/gemeenten2.shp')\n"
     ]
    }
   ],
   "source": [
    "g = pd.concat(gemeenten)\n",
    "w = pd.concat(wijken)\n",
    "b = pd.concat(buurten)\n",
    "\n",
    "def split_list(a_list):\n",
    "    half = len(a_list)//2\n",
    "    return pd.concat(a_list[:half]), pd.concat(a_list[half:])\n",
    "\n",
    "g, g1 = split_list(gemeenten)\n",
    "w, w1 = split_list(gemeenten)\n",
    "b, b1 = split_list(gemeenten)\n",
    "\n",
    "g.to_file('qgis/gemeenten1.shp')\n",
    "g1.to_file('qgis/gemeenten2.shp')"
   ]
  },
  {
   "cell_type": "code",
   "execution_count": 16,
   "id": "06154d6a",
   "metadata": {},
   "outputs": [
    {
     "name": "stderr",
     "output_type": "stream",
     "text": [
      "<ipython-input-16-b9d1610eb2c7>:1: UserWarning: Column names longer than 10 characters will be truncated when saved to ESRI Shapefile.\n",
      "  w.to_file('qgis/wijken1.shp')\n",
      "<ipython-input-16-b9d1610eb2c7>:2: UserWarning: Column names longer than 10 characters will be truncated when saved to ESRI Shapefile.\n",
      "  w1.to_file('qgis/wijken2.shp')\n"
     ]
    }
   ],
   "source": [
    "w.to_file('qgis/wijken1.shp')\n",
    "w1.to_file('qgis/wijken2.shp')"
   ]
  },
  {
   "cell_type": "code",
   "execution_count": 17,
   "id": "8f30924d",
   "metadata": {},
   "outputs": [
    {
     "name": "stderr",
     "output_type": "stream",
     "text": [
      "<ipython-input-17-6d41222958a5>:1: UserWarning: Column names longer than 10 characters will be truncated when saved to ESRI Shapefile.\n",
      "  b.to_file('qgis/buurten1.shp')\n",
      "<ipython-input-17-6d41222958a5>:2: UserWarning: Column names longer than 10 characters will be truncated when saved to ESRI Shapefile.\n",
      "  b1.to_file('qgis/buurten2.shp')\n"
     ]
    }
   ],
   "source": [
    "b.to_file('qgis/buurten1.shp')\n",
    "b1.to_file('qgis/buurten2.shp')"
   ]
  },
  {
   "cell_type": "code",
   "execution_count": null,
   "id": "b9145b26",
   "metadata": {},
   "outputs": [],
   "source": []
  }
 ],
 "metadata": {
  "kernelspec": {
   "display_name": "bouwput",
   "language": "python",
   "name": "bouwput"
  },
  "language_info": {
   "codemirror_mode": {
    "name": "ipython",
    "version": 3
   },
   "file_extension": ".py",
   "mimetype": "text/x-python",
   "name": "python",
   "nbconvert_exporter": "python",
   "pygments_lexer": "ipython3",
   "version": "3.8.10"
  }
 },
 "nbformat": 4,
 "nbformat_minor": 5
}
